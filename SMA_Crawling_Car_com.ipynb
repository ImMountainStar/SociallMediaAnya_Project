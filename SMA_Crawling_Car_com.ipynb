{
 "cells": [
  {
   "cell_type": "markdown",
   "id": "9c730a70-d0f4-45e7-b7a1-3bdbc70731ab",
   "metadata": {},
   "source": [
    "# Car.com 크롤링 코드 \n",
    "- 코랩 환경에서는 크롬드라이버 경로 지정에 문제가 발생해 코드파일을 첨부합니다. \n",
    "- URl : https://www.cars.com/\n",
    "- 크롤링 대상 : ravo4의 소비자 리뷰, 평점\n",
    "- 리뷰기간 :  2010~2023년 "
   ]
  },
  {
   "cell_type": "code",
   "execution_count": 1,
   "id": "e6b1a66a-95ec-4179-b3f7-cb4990c8ad45",
   "metadata": {},
   "outputs": [],
   "source": [
    "import pandas as pd"
   ]
  },
  {
   "cell_type": "code",
   "execution_count": 2,
   "id": "7f1dcb75-98d5-47cb-925c-6f55e64d9043",
   "metadata": {},
   "outputs": [],
   "source": [
    "from selenium import webdriver\n",
    "from selenium.webdriver.chrome.service import Service as ChromeService\n",
    "from selenium.webdriver.chrome.options import Options as ChromeOptions\n",
    "from selenium.webdriver.common.by import By\n",
    "from selenium.webdriver.support.ui import WebDriverWait\n",
    "from selenium.webdriver.support import expected_conditions as EC\n",
    "from bs4 import BeautifulSoup"
   ]
  },
  {
   "cell_type": "code",
   "execution_count": 3,
   "id": "de44ca3f-8482-40a6-bcae-b9158132eb0a",
   "metadata": {},
   "outputs": [],
   "source": [
    "def get_reviews(year, max_pages=5):\n",
    "    options = ChromeOptions()\n",
    "    user_agent = \"Mozilla/5.0 (Macintosh; Intel Mac OS X 10_12_6) AppleWebKit/537.36 (KHTML, like Gecko) Chrome/61.0.3163.100 Safari/537.36\"\n",
    "    options.add_argument('user-agent=' + user_agent)\n",
    "    options.add_argument(\"lang=ko_KR\")\n",
    "    options.add_argument('headless')\n",
    "    options.add_argument('window-size=1920x1080')\n",
    "    options.add_argument(\"disable-gpu\")\n",
    "    options.add_argument(\"--no-sandbox\")\n",
    "\n",
    "    # 수동으로 다운로드한 ChromeDriver 경로 설정\n",
    "    chromedriver_path = 'C:/Users/USER/Desktop/chromedriver-win64/chromedriver.exe'\n",
    "    service = ChromeService(executable_path=chromedriver_path)\n",
    "    \n",
    "    # chrome driver\n",
    "    driver = webdriver.Chrome(service=service, options=options)\n",
    "    \n",
    "    all_reviews = []\n",
    "    page = 1\n",
    "\n",
    "    while page <= max_pages:\n",
    "        url = f\"https://www.cars.com/research/toyota-rav4-{year}/consumer-reviews/?page={page}&page_size=200&sort_by=MostRecent\"\n",
    "        driver.get(url)\n",
    "        \n",
    "        # 명시적인 대기 시간 추가\n",
    "        try:\n",
    "            WebDriverWait(driver, 10).until(\n",
    "                EC.presence_of_element_located((By.CLASS_NAME, 'reviews-collection'))\n",
    "            )\n",
    "        except:\n",
    "            print(f\"Timeout waiting for page {page}\")\n",
    "            break\n",
    "        \n",
    "        # HTML 파싱\n",
    "        soup = BeautifulSoup(driver.page_source, \"html.parser\")\n",
    "\n",
    "        # 리뷰 데이터 추출\n",
    "        reviews_collection = soup.find('div', class_='reviews-collection')\n",
    "        if not reviews_collection:\n",
    "            print(f\"No reviews collection found on page {page}\")\n",
    "            break\n",
    "        \n",
    "        reviews = reviews_collection.find_all('div', class_='sds-container consumer-review-container')\n",
    "        if not reviews:\n",
    "            print(f\"No reviews found in reviews collection on page {page}\")\n",
    "            break\n",
    "\n",
    "        for review in reviews:\n",
    "            review_text_div = review.find('p', class_='review-body')\n",
    "            if review_text_div:\n",
    "                review_text = review_text_div.get_text(strip=True)\n",
    "            else:\n",
    "                review_text = \"No Review Text Found\"\n",
    "            \n",
    "            review_date_div = review.find('div', class_='review-byline review-section')\n",
    "            if review_date_div:\n",
    "                review_date = review_date_div.find('div').get_text(strip=True)\n",
    "            else:\n",
    "                review_date = \"No Date Found\"\n",
    "            \n",
    "            review_title_div = review.find('h3', class_='spark-heading-6 title')\n",
    "            if review_title_div:\n",
    "                review_title = review_title_div.get_text(strip=True)\n",
    "            else:\n",
    "                review_title = \"No Title Found\"\n",
    "            \n",
    "            review_rating_div = review.find('div', class_='review-stars')\n",
    "            if review_rating_div:\n",
    "                review_rating_span = review_rating_div.find('span', class_='sds-rating__count')\n",
    "                if review_rating_span:\n",
    "                    review_rating = review_rating_span.get_text(strip=True)\n",
    "                else:\n",
    "                    review_rating = \"No Rating Found\"\n",
    "            else:\n",
    "                review_rating = \"No Rating Found\"\n",
    "\n",
    "            all_reviews.append({\n",
    "                \"날짜\": review_date,\n",
    "                \"리뷰 제목\": review_title,\n",
    "                \"리뷰 내용\": review_text,\n",
    "                \"평점\": review_rating\n",
    "            })\n",
    "\n",
    "        page += 1\n",
    "    \n",
    "    driver.quit()\n",
    "    \n",
    "    return all_reviews"
   ]
  },
  {
   "cell_type": "markdown",
   "id": "911459b3-ef2a-4caf-b411-d913fe00a47b",
   "metadata": {},
   "source": [
    "- 용량 문제로 각 연도별로 크롤링 하고, 엑셀로 내보내기\n",
    "- 쥬피터 환경에서 합치는데 용량 문제로 불가능하여, 엑셀 파일들을 합침"
   ]
  },
  {
   "cell_type": "code",
   "execution_count": null,
   "id": "e19c3df6-5cdf-4b79-8411-524762ea6b19",
   "metadata": {},
   "outputs": [],
   "source": [
    "reviews_2010 = get_reviews(2010)\n",
    "\n",
    "# 데이터 프레임으로 변환\n",
    "reviews_2010 = pd.DataFrame(reviews_2010)\n",
    "\n",
    "# 엑셀 파일로 내보내기\n",
    "excel_path = 'reviews_2010_0604_1.xlsx'\n",
    "reviews_2010.to_excel(excel_path, index=False)"
   ]
  },
  {
   "cell_type": "code",
   "execution_count": 13,
   "id": "9dfbd5f7-b661-4c55-a44a-375082bf2558",
   "metadata": {},
   "outputs": [],
   "source": [
    "reviews_2011 = get_reviews(2011)\n",
    "\n",
    "# 데이터 프레임으로 변환\n",
    "reviews_2011 = pd.DataFrame(reviews_2011)\n",
    "\n",
    "# 엑셀 파일로 내보내기\n",
    "excel_path = 'reviews_2011_0604.xlsx'\n",
    "reviews_2011.to_excel(excel_path, index=False)\n"
   ]
  },
  {
   "cell_type": "code",
   "execution_count": 14,
   "id": "d2bc7733-fa1a-48b9-bbea-0d2da0bea393",
   "metadata": {},
   "outputs": [],
   "source": [
    "reviews_2012 = get_reviews(2012)\n",
    "\n",
    "# 데이터 프레임으로 변환\n",
    "reviews_2012 = pd.DataFrame(reviews_2012)\n",
    "\n",
    "# 엑셀 파일로 내보내기\n",
    "excel_path = 'reviews_2012_0604.xlsx'\n",
    "reviews_2012.to_excel(excel_path, index=False)"
   ]
  },
  {
   "cell_type": "code",
   "execution_count": 15,
   "id": "70f4949a-557c-485e-87b1-491ddea443ea",
   "metadata": {},
   "outputs": [],
   "source": [
    "reviews_2013 = get_reviews(2013)\n",
    "\n",
    "# 데이터 프레임으로 변환\n",
    "reviews_2013 = pd.DataFrame(reviews_2013)\n",
    "\n",
    "# 엑셀 파일로 내보내기\n",
    "excel_path = 'reviews_2013_0604.xlsx'\n",
    "reviews_2013.to_excel(excel_path, index=False)"
   ]
  },
  {
   "cell_type": "code",
   "execution_count": 16,
   "id": "c082e40d-2733-4911-aa47-0d5f78a080d7",
   "metadata": {},
   "outputs": [],
   "source": [
    "reviews_2014 = get_reviews(2014)\n",
    "\n",
    "# 데이터 프레임으로 변환\n",
    "reviews_2014 = pd.DataFrame(reviews_2014)\n",
    "\n",
    "# 엑셀 파일로 내보내기\n",
    "excel_path = 'reviews_2014_0604.xlsx'\n",
    "reviews_2014.to_excel(excel_path, index=False)\n"
   ]
  },
  {
   "cell_type": "code",
   "execution_count": 17,
   "id": "c84cea65-44ed-4e43-bfdc-2817064f6254",
   "metadata": {},
   "outputs": [],
   "source": [
    "reviews_2015 = get_reviews(2015)\n",
    "\n",
    "# 데이터 프레임으로 변환\n",
    "reviews_2015 = pd.DataFrame(reviews_2015)\n",
    "\n",
    "# 엑셀 파일로 내보내기\n",
    "excel_path = 'reviews_2015_0604.xlsx'\n",
    "reviews_2015.to_excel(excel_path, index=False)\n"
   ]
  },
  {
   "cell_type": "code",
   "execution_count": 18,
   "id": "d20126d3-9fe6-4c1a-884a-f297fecbd73b",
   "metadata": {},
   "outputs": [],
   "source": [
    "reviews_2016 = get_reviews(2016)\n",
    "\n",
    "# 데이터 프레임으로 변환\n",
    "reviews_2016 = pd.DataFrame(reviews_2016)\n",
    "\n",
    "# 엑셀 파일로 내보내기\n",
    "excel_path = 'reviews_2016_0604.xlsx'\n",
    "reviews_2016.to_excel(excel_path, index=False)\n"
   ]
  },
  {
   "cell_type": "code",
   "execution_count": 19,
   "id": "d33151a7-14a8-4840-bcfa-01728bd8498c",
   "metadata": {},
   "outputs": [],
   "source": [
    "reviews_2017 = get_reviews(2017)\n",
    "\n",
    "# 데이터 프레임으로 변환\n",
    "reviews_2017 = pd.DataFrame(reviews_2017)\n",
    "\n",
    "# 엑셀 파일로 내보내기\n",
    "excel_path = 'reviews_2017_0604.xlsx'\n",
    "reviews_2017.to_excel(excel_path, index=False)\n"
   ]
  },
  {
   "cell_type": "code",
   "execution_count": 4,
   "id": "3af9ab4b-46f0-466e-9848-56ab8541f760",
   "metadata": {},
   "outputs": [],
   "source": [
    "reviews_2018 = get_reviews(2018)\n",
    "\n",
    "# 데이터 프레임으로 변환\n",
    "reviews_2018 = pd.DataFrame(reviews_2018)\n",
    "\n",
    "# 엑셀 파일로 내보내기\n",
    "excel_path = 'reviews_2018_0604.xlsx'\n",
    "reviews_2018.to_excel(excel_path, index=False)\n"
   ]
  },
  {
   "cell_type": "code",
   "execution_count": 5,
   "id": "4b7320ec-bfc4-4656-977b-1e8594b66aef",
   "metadata": {},
   "outputs": [],
   "source": [
    "#reviews_2019 = get_reviews(2019)\n",
    "\n",
    "# 데이터 프레임으로 변환\n",
    "reviews_2019 = pd.DataFrame(reviews_2019)\n",
    "\n",
    "# 엑셀 파일로 내보내기\n",
    "excel_path = 'reviews_2019_0604.xlsx'\n",
    "reviews_2019.to_excel(excel_path, index=False)\n"
   ]
  },
  {
   "cell_type": "code",
   "execution_count": 6,
   "id": "e2fa4d5d-f217-4307-9c8d-7d560ee9cf01",
   "metadata": {},
   "outputs": [],
   "source": [
    "reviews_2020 = get_reviews(2020)\n",
    "\n",
    "# 데이터 프레임으로 변환\n",
    "reviews_2020 = pd.DataFrame(reviews_2020)\n",
    "\n",
    "# 엑셀 파일로 내보내기\n",
    "excel_path = 'reviews_2020_0604.xlsx'\n",
    "reviews_2020.to_excel(excel_path, index=False)\n"
   ]
  },
  {
   "cell_type": "code",
   "execution_count": 7,
   "id": "a16fa575-7112-40f8-8426-74326d4954d0",
   "metadata": {},
   "outputs": [],
   "source": [
    "reviews_2021 = get_reviews(2021)\n",
    "\n",
    "# 데이터 프레임으로 변환\n",
    "reviews_2021 = pd.DataFrame(reviews_2021)\n",
    "\n",
    "# 엑셀 파일로 내보내기\n",
    "excel_path = 'reviews_2021_0604.xlsx'\n",
    "reviews_2021.to_excel(excel_path, index=False)\n"
   ]
  },
  {
   "cell_type": "code",
   "execution_count": 8,
   "id": "6d885a44-dede-40ed-836d-eb056cca7783",
   "metadata": {},
   "outputs": [],
   "source": [
    "reviews_2022 = get_reviews(2022)\n",
    "\n",
    "# 데이터 프레임으로 변환\n",
    "reviews_2022 = pd.DataFrame(reviews_2022)\n",
    "\n",
    "# 엑셀 파일로 내보내기\n",
    "excel_path = 'reviews_2022_0604.xlsx'\n",
    "reviews_2022.to_excel(excel_path, index=False)\n"
   ]
  },
  {
   "cell_type": "code",
   "execution_count": 9,
   "id": "08bdc3fa-122b-467e-a523-500399e6d55a",
   "metadata": {},
   "outputs": [],
   "source": [
    "reviews_2023 = get_reviews(2023)\n",
    "\n",
    "# 데이터 프레임으로 변환\n",
    "reviews_2023 = pd.DataFrame(reviews_2023)\n",
    "\n",
    "# 엑셀 파일로 내보내기\n",
    "excel_path = 'reviews_2023_0604.xlsx'\n",
    "reviews_2023.to_excel(excel_path, index=False)\n"
   ]
  },
  {
   "cell_type": "code",
   "execution_count": null,
   "id": "1d75c6c0-3a87-40c7-a7b5-67a98824299a",
   "metadata": {},
   "outputs": [],
   "source": []
  }
 ],
 "metadata": {
  "kernelspec": {
   "display_name": "Python 3 (ipykernel)",
   "language": "python",
   "name": "python3"
  },
  "language_info": {
   "codemirror_mode": {
    "name": "ipython",
    "version": 3
   },
   "file_extension": ".py",
   "mimetype": "text/x-python",
   "name": "python",
   "nbconvert_exporter": "python",
   "pygments_lexer": "ipython3",
   "version": "3.9.19"
  }
 },
 "nbformat": 4,
 "nbformat_minor": 5
}
