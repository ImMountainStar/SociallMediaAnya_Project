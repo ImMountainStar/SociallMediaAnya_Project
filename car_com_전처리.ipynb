{
 "cells": [
  {
   "cell_type": "code",
   "execution_count": 1,
   "id": "c3a750b8-4601-45c8-bf4f-197cd3473b1e",
   "metadata": {},
   "outputs": [],
   "source": [
    "import pandas as pd"
   ]
  },
  {
   "cell_type": "code",
   "execution_count": null,
   "id": "a754aa66-8e44-4dc4-98d4-0bbc351036d0",
   "metadata": {},
   "outputs": [],
   "source": [
    "data = pd.read_xlsx()"
   ]
  },
  {
   "cell_type": "code",
   "execution_count": null,
   "id": "1f066016-92b0-41ce-8c46-fe0227a584df",
   "metadata": {},
   "outputs": [],
   "source": [
    "# 날짜를 datetime 형식으로 변환\n",
    "combined_df['날짜'] = pd.to_datetime(combined_df['날짜'], format='%m/%d/%Y')\n",
    "\n",
    "# 연도와 월을 추출\n",
    "combined_df['연도'] = combined_df['날짜'].dt.year\n",
    "combined_df['월'] = combined_df['날짜'].dt.month"
   ]
  }
 ],
 "metadata": {
  "kernelspec": {
   "display_name": "Python 3 (ipykernel)",
   "language": "python",
   "name": "python3"
  },
  "language_info": {
   "codemirror_mode": {
    "name": "ipython",
    "version": 3
   },
   "file_extension": ".py",
   "mimetype": "text/x-python",
   "name": "python",
   "nbconvert_exporter": "python",
   "pygments_lexer": "ipython3",
   "version": "3.9.19"
  }
 },
 "nbformat": 4,
 "nbformat_minor": 5
}
