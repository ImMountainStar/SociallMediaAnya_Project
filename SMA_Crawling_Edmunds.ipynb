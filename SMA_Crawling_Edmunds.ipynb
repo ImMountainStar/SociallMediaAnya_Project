{
 "cells": [
  {
   "cell_type": "markdown",
   "id": "3bd4b096-67f4-4d68-b5ee-3f71adac9c2f",
   "metadata": {},
   "source": [
    "# Edmunds 크롤링 코드 \n",
    "- 코랩 환경에서는 크롬드라이버 경로 지정에 문제가 발생해 코드파일을 첨부합니다. \n",
    "- URl : https://www.edmunds.com/\n",
    "- 크롤링 대상 : ravo4의 소비자 리뷰, 평점\n",
    "- 리뷰기간 :  2010~2023년 "
   ]
  },
  {
   "cell_type": "code",
   "execution_count": null,
   "id": "87c9eb56-9ba0-40d1-89f0-e86471bbf755",
   "metadata": {},
   "outputs": [],
   "source": [
    "from selenium import webdriver\n",
    "from selenium.webdriver.chrome.service import Service as ChromeService\n",
    "from selenium.webdriver.chrome.options import Options as ChromeOptions\n",
    "from bs4 import BeautifulSoup\n",
    "import pandas as pd\n",
    "import time"
   ]
  },
  {
   "cell_type": "code",
   "execution_count": null,
   "id": "57b8b7da-a040-4f60-861f-d43f819fd721",
   "metadata": {},
   "outputs": [],
   "source": [
    "def get_reviews(year):\n",
    "    options = ChromeOptions()\n",
    "    options.headless = True\n",
    "    options.add_argument(\"--disable-gpu\")\n",
    "    options.add_argument(\"--no-sandbox\")\n",
    "    options.add_argument(\"lang=ko_KR\")\n",
    "    user_agent = \"Mozilla/5.0 (Macintosh; Intel Mac OS X 10_12_6) AppleWebKit/537.36 (KHTML, like Gecko) Chrome/61.0.3163.100 Safari/537.36\"\n",
    "    options.add_argument(f\"user-agent={user_agent}\")\n",
    "\n",
    "    # ChromeDriver 경로 지정\n",
    "    chromedriver_path = 'C:/Users/USER/Desktop/chromedriver-win64/chromedriver.exe'\n",
    "    driver = webdriver.Chrome(service=ChromeService(executable_path=chromedriver_path), options=options)\n",
    "\n",
    "    all_reviews = []\n",
    "    page = 1\n",
    "\n",
    "    while True:\n",
    "        url = f\"https://www.edmunds.com/toyota/rav4/{year}/consumer-reviews/?pagenum={page}&pagesize=50&sorting=%7B%22updated%22%3A%22DESC%22%7D\"\n",
    "        driver.get(url)\n",
    "\n",
    "        time.sleep(5)  # 페이지 로드 대기\n",
    "\n",
    "        # HTML 파싱\n",
    "        soup = BeautifulSoup(driver.page_source, \"html.parser\")\n",
    "\n",
    "        # 리뷰 데이터 추출\n",
    "        reviews_list = soup.find('div', attrs={'aria-label': 'Consumer Reviews', 'class': 'reviews-list'})\n",
    "        if not reviews_list:\n",
    "            print(\"No reviews list found.\")\n",
    "            break\n",
    "\n",
    "        reviews = reviews_list.find_all('div', class_='review-item text-gray-darker')\n",
    "\n",
    "        if not reviews:\n",
    "            print(\"No reviews found on page\", page)\n",
    "            break\n",
    "\n",
    "        for review in reviews:\n",
    "            review_text_div = review.find('div', class_='truncated-text size-16')\n",
    "            if review_text_div:\n",
    "                review_text = review_text_div.get_text(strip=True)\n",
    "            else:\n",
    "                review_text = \"No Review Text Found\"\n",
    "\n",
    "            review_date_divs = review.find_all('div', class_='small text-gray-dark mb-2')\n",
    "            review_date = review_date_divs[0].get_text(strip=True) if review_date_divs else \"No Date Found\"\n",
    "\n",
    "            # 평점 추출\n",
    "            rating_span = review.find('span', class_='sr-only')\n",
    "            rating = rating_span.get_text(strip=True) if rating_span else \"No Rating Found\"\n",
    "\n",
    "            all_reviews.append({\n",
    "                \"날짜\": review_date,\n",
    "                \"리뷰\": review_text,\n",
    "                \"평점\": rating\n",
    "            })\n",
    "\n",
    "        page += 1\n",
    "\n",
    "    driver.quit()\n",
    "\n",
    "    return all_reviews"
   ]
  },
  {
   "cell_type": "code",
   "execution_count": null,
   "id": "fcb4a850-1c05-4a21-a28d-11fac9030901",
   "metadata": {},
   "outputs": [],
   "source": [
    "def process_reviews(year):\n",
    "    reviews = get_reviews(year)\n",
    "    df = pd.DataFrame(reviews)\n",
    "\n",
    "    # 데이터 확인용 출력\n",
    "    #print(df.head())\n",
    "\n",
    "    # 리뷰 텍스트에서 'Safety'를 포함 그 뒤 텍스트 삭제\n",
    "    if '리뷰' in df.columns:\n",
    "        df['리뷰'] = df['리뷰'].str.split('Safety').str[0].str.strip()\n",
    "    else:\n",
    "        print(\"Error: '리뷰' column not found\")\n",
    "\n",
    "    return df"
   ]
  },
  {
   "cell_type": "code",
   "execution_count": 2,
   "id": "74c26677-0e14-4e83-8d17-c2aeaa03e1e1",
   "metadata": {},
   "outputs": [
    {
     "name": "stdout",
     "output_type": "stream",
     "text": [
      "No reviews list found.\n",
      "No reviews list found.\n",
      "No reviews list found.\n",
      "No reviews list found.\n"
     ]
    }
   ],
   "source": [
    "#용량 문제로 두 기간으로 나누어서 크롤링함\n",
    "years = range(2015, 2019)\n",
    "combined_df = pd.DataFrame()\n",
    "\n",
    "for year in years:\n",
    "    year_df = process_reviews(year)\n",
    "    combined_df = pd.concat([combined_df, year_df], ignore_index=True)"
   ]
  },
  {
   "cell_type": "code",
   "execution_count": 4,
   "id": "80278744-a76a-4119-bbe7-360f1fcb4253",
   "metadata": {},
   "outputs": [],
   "source": [
    "combined_df.to_excel(\"combined_reviews_2018.xlsx\", index=False)"
   ]
  },
  {
   "cell_type": "code",
   "execution_count": 3,
   "id": "7e3665ed-822a-428b-9fd5-88bd0f9c7564",
   "metadata": {},
   "outputs": [
    {
     "name": "stdout",
     "output_type": "stream",
     "text": [
      "No reviews list found.\n",
      "No reviews list found.\n",
      "No reviews list found.\n",
      "No reviews list found.\n",
      "No reviews list found.\n"
     ]
    }
   ],
   "source": [
    "years = range(2019, 2024)\n",
    "combined_df = pd.DataFrame()\n",
    "\n",
    "for year in years:\n",
    "    year_df = process_reviews(year)\n",
    "    combined_df = pd.concat([combined_df, year_df], ignore_index=True)"
   ]
  },
  {
   "cell_type": "code",
   "execution_count": 5,
   "id": "c589dafc-9b1b-4b7d-af5c-491533472197",
   "metadata": {},
   "outputs": [],
   "source": [
    "combined_df.to_excel(\"combined_reviews_2023.xlsx\", index=False)"
   ]
  }
 ],
 "metadata": {
  "kernelspec": {
   "display_name": "Python 3 (ipykernel)",
   "language": "python",
   "name": "python3"
  },
  "language_info": {
   "codemirror_mode": {
    "name": "ipython",
    "version": 3
   },
   "file_extension": ".py",
   "mimetype": "text/x-python",
   "name": "python",
   "nbconvert_exporter": "python",
   "pygments_lexer": "ipython3",
   "version": "3.9.19"
  }
 },
 "nbformat": 4,
 "nbformat_minor": 5
}
